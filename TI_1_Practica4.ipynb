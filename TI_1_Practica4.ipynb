{
  "nbformat": 4,
  "nbformat_minor": 0,
  "metadata": {
    "colab": {
      "provenance": [],
      "authorship_tag": "ABX9TyM6V/uQiMFyoNwZ9cnRF/n8",
      "include_colab_link": true
    },
    "kernelspec": {
      "name": "python3",
      "display_name": "Python 3"
    },
    "language_info": {
      "name": "python"
    }
  },
  "cells": [
    {
      "cell_type": "markdown",
      "metadata": {
        "id": "view-in-github",
        "colab_type": "text"
      },
      "source": [
        "<a href=\"https://colab.research.google.com/github/dvillasxUdg/ti_p4/blob/main/TI_1_Practica4.ipynb\" target=\"_parent\"><img src=\"https://colab.research.google.com/assets/colab-badge.svg\" alt=\"Open In Colab\"/></a>"
      ]
    },
    {
      "cell_type": "markdown",
      "metadata": {
        "id": "bbeb0c1e"
      },
      "source": [
        "# Práctica 4\n",
        "\n",
        "**Nombre:** Damian Alfonso Villaseñor Cisneros  \n",
        "**e-mail:** damian.villasenor3846@alumnos.udg.mx"
      ]
    },
    {
      "cell_type": "markdown",
      "metadata": {
        "id": "0F-czBop5Lfe"
      },
      "source": [
        "## MODULES"
      ]
    },
    {
      "cell_type": "code",
      "execution_count": null,
      "metadata": {
        "id": "8yJ0Tfp65Lfe"
      },
      "outputs": [],
      "source": [
        "import math\n",
        "import numpy as np\n",
        "import pandas as pd\n",
        "\n",
        "import plotly.graph_objects as go\n",
        "\n",
        "from scipy.stats import wrapcauchy\n",
        "from scipy.stats import levy_stable\n",
        "\n",
        "from scipy.spatial import distance"
      ]
    },
    {
      "cell_type": "markdown",
      "metadata": {
        "id": "eea985c3"
      },
      "source": [
        "## CLASSES"
      ]
    },
    {
      "cell_type": "code",
      "execution_count": null,
      "metadata": {
        "id": "e2ee1ad4"
      },
      "outputs": [],
      "source": [
        "################# http://www.pygame.org/wiki/2DVectorClass ##################\n",
        "class Vec2d(object):\n",
        "    \"\"\"2d vector class, supports vector and scalar operators,\n",
        "       and also provides a bunch of high level functions\n",
        "       \"\"\"\n",
        "    __slots__ = ['x', 'y']\n",
        "\n",
        "    def __init__(self, x_or_pair, y = None):\n",
        "        if y == None:\n",
        "            self.x = x_or_pair[0]\n",
        "            self.y = x_or_pair[1]\n",
        "        else:\n",
        "            self.x = x_or_pair\n",
        "            self.y = y\n",
        "\n",
        "    # Addition\n",
        "    def __add__(self, other):\n",
        "        if isinstance(other, Vec2d):\n",
        "            return Vec2d(self.x + other.x, self.y + other.y)\n",
        "        elif hasattr(other, \"__getitem__\"):\n",
        "            return Vec2d(self.x + other[0], self.y + other[1])\n",
        "        else:\n",
        "            return Vec2d(self.x + other, self.y + other)\n",
        "\n",
        "    # Subtraction\n",
        "    def __sub__(self, other):\n",
        "        if isinstance(other, Vec2d):\n",
        "            return Vec2d(self.x - other.x, self.y - other.y)\n",
        "        elif (hasattr(other, \"__getitem__\")):\n",
        "            return Vec2d(self.x - other[0], self.y - other[1])\n",
        "        else:\n",
        "            return Vec2d(self.x - other, self.y - other)\n",
        "\n",
        "    # Vector length\n",
        "    def get_length(self):\n",
        "        return math.sqrt(self.x**2 + self.y**2)\n",
        "\n",
        "    # rotate vector\n",
        "    def rotated(self, angle):\n",
        "        cos = math.cos(angle)\n",
        "        sin = math.sin(angle)\n",
        "        x = self.x*cos - self.y*sin\n",
        "        y = self.x*sin + self.y*cos\n",
        "        return Vec2d(x, y)"
      ]
    },
    {
      "cell_type": "markdown",
      "metadata": {
        "id": "9f102d39"
      },
      "source": [
        "## FUNCTIONS"
      ]
    },
    {
      "cell_type": "code",
      "execution_count": null,
      "metadata": {
        "id": "3NP0sfVZhW9a"
      },
      "outputs": [],
      "source": [
        "def bm_2d(n_steps=1000, speed=6, s_pos=[0,0]):\n",
        "  \"\"\"\n",
        "  Arguments:\n",
        "    n_steps (int): number of steps to walk\n",
        "    speed (float): speed of the walker\n",
        "    s_pos (list): init position for [x, y].\n",
        "  Returns:\n",
        "    BM_2d_df(DataFrame): DataFrame with a BM\n",
        "  \"\"\"\n",
        "\n",
        "  velocity = Vec2d(speed, 0)\n",
        "\n",
        "  BM_2d_df = pd.DataFrame(columns = ['x_pos','y_pos'])\n",
        "  temp_df = pd.DataFrame([{'x_pos':s_pos[0], 'y_pos':s_pos[1]}])\n",
        "\n",
        "  BM_2d_df = pd.concat([BM_2d_df, temp_df], ignore_index=True)\n",
        "\n",
        "  for i in range(n_steps-1):\n",
        "    turn_angle = np.random.uniform(low=-np.pi, high=np.pi)\n",
        "    velocity = velocity.rotated(turn_angle)\n",
        "\n",
        "    temp_df = pd.DataFrame([{'x_pos':BM_2d_df.x_pos[i]+velocity.x, 'y_pos':BM_2d_df.y_pos[i]+velocity.y}])\n",
        "    BM_2d_df = pd.concat([BM_2d_df, temp_df], ignore_index=True)\n",
        "\n",
        "  return BM_2d_df"
      ]
    },
    {
      "cell_type": "code",
      "execution_count": null,
      "metadata": {
        "id": "bd8DFOvrms67"
      },
      "outputs": [],
      "source": [
        "def crw_2d(n_steps=1000, speed=6, s_pos=[0, 0], crw_exponent=0.7):\n",
        "    \"\"\"\n",
        "    Arguments:\n",
        "        n_steps (int): number of steps to walk\n",
        "        speed (float): speed of the walker\n",
        "        s_pos (list): init position for [x, y].\n",
        "        crw_exponent (float): wrapcauchy distribution exponent\n",
        "\n",
        "    Returns:\n",
        "        crw_2d_df(DataFrame): DataFrame with a CRW\n",
        "    \"\"\"\n",
        "    velocity = Vec2d(speed, 0)\n",
        "\n",
        "    crw_2d_df = pd.DataFrame(columns=['x_pos', 'y_pos'])\n",
        "    temp_df = pd.DataFrame([{'x_pos': s_pos[0], 'y_pos': s_pos[1]}])\n",
        "\n",
        "    crw_2d_df = pd.concat([crw_2d_df, temp_df], ignore_index=True)\n",
        "\n",
        "    for i in range(n_steps - 1):\n",
        "        turn_angle = wrapcauchy.rvs(crw_exponent)\n",
        "        velocity = velocity.rotated(turn_angle)\n",
        "\n",
        "        s_pos = [s_pos[0] + velocity.x, s_pos[1] + velocity.y]\n",
        "\n",
        "        temp_df = pd.DataFrame([{'x_pos': s_pos[0], 'y_pos': s_pos[1]}])\n",
        "        crw_2d_df = pd.concat([crw_2d_df, temp_df], ignore_index=True)\n",
        "\n",
        "    return crw_2d_df"
      ]
    },
    {
      "cell_type": "code",
      "execution_count": null,
      "metadata": {
        "id": "83C8dvZCiC5h"
      },
      "outputs": [],
      "source": [
        "def lw_2d(n_steps=1000, speed=6, s_pos=[0, 0], crw_exponent=0.9, alpha=1.9, beta=0.0, loc=3.0):\n",
        "    velocity = Vec2d(speed, 0)\n",
        "    levy_2d_df = pd.DataFrame(columns=['x_pos', 'y_pos'])\n",
        "    temp_df = pd.DataFrame([{'x_pos': s_pos[0], 'y_pos': s_pos[1]}])\n",
        "    levy_2d_df = pd.concat([levy_2d_df, temp_df], ignore_index=True)\n",
        "\n",
        "    total_steps = 0\n",
        "\n",
        "    while total_steps < n_steps-1:\n",
        "        turn_angle = wrapcauchy.rvs(crw_exponent)\n",
        "        step = int(levy_stable.rvs(alpha=alpha, beta=beta, loc=loc))\n",
        "\n",
        "        if total_steps + step > n_steps:\n",
        "            step = n_steps - total_steps\n",
        "\n",
        "        velocity = velocity.rotated(turn_angle)\n",
        "\n",
        "        for _ in range(step):\n",
        "            s_pos = [s_pos[0] + velocity.x, s_pos[1] + velocity.y]\n",
        "            temp_df = pd.DataFrame([{'x_pos': s_pos[0], 'y_pos': s_pos[1]}])\n",
        "            levy_2d_df = pd.concat([levy_2d_df, temp_df], ignore_index=True)\n",
        "\n",
        "        total_steps += step\n",
        "\n",
        "    return levy_2d_df"
      ]
    }
  ]
}